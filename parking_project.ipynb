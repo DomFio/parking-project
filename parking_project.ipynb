{
 "cells": [
  {
   "cell_type": "code",
   "execution_count": 30,
   "id": "3e849dab",
   "metadata": {
    "scrolled": true
   },
   "outputs": [
    {
     "name": "stdout",
     "output_type": "stream",
     "text": [
      "See you soon!\n"
     ]
    }
   ],
   "source": [
    "from IPython.display import clear_output as clear\n",
    "\n",
    "class Paid_parking:\n",
    "    \n",
    "    def __init__(self):\n",
    "        self.tickets = [1, 2, 3, 4, 5, 6, 7, 8, 9, 10]\n",
    "        self.parking_spaces = [1, 2, 3, 4, 5, 6, 7, 8, 9, 10]\n",
    "        self.currentTicket = {}\n",
    "\n",
    "    def take_ticket(self):\n",
    "        if len(self.tickets) >= 1:\n",
    "            ticket = self.tickets.pop(0)\n",
    "            print(f\"\\nYour ticket number is {ticket}\")\n",
    "            self.parking_spaces.remove(ticket)\n",
    "            self.currentTicket[ticket] = ''\n",
    "        else:\n",
    "            print(\"sorry garage is full\")\n",
    "\n",
    "    def payforParking(self):\n",
    "        ticket_pay = input(\"What ticket number would you like to pay for?\\n \")\n",
    "\n",
    "        if ticket_pay.isnumeric():\n",
    "\n",
    "            if self.currentTicket[int(ticket_pay)]:\n",
    "                    print(\"Your ticket has been paid already. Just leave already...\")\n",
    "            else:\n",
    "                payment = input(\"To pay for parking, type 'pay'\\n \")\n",
    "                if payment.lower() == 'pay':\n",
    "                    self.currentTicket[int(ticket_pay)] = 'paid'\n",
    "                    print(f\"\\nTicket {int(ticket_pay)} Has been paid for.\")\n",
    "                else:\n",
    "                    if payment.lower() != 'pay':\n",
    "                        print(\"invalid input. please type 'pay' \")\n",
    "                        return self.payforParking()\n",
    "        else:\n",
    "            print('Invalid response')\n",
    "            return self.payforParking()\n",
    "    \n",
    "    def leaveGarage(self):\n",
    "        \n",
    "        ticket_pay = int(input(\"insert ticket number\\n \"))\n",
    "        if ticket_pay in self.currentTicket.keys() and self.currentTicket[ticket_pay] == 'paid':\n",
    "            self.tickets.append(ticket_pay)\n",
    "            print(\"Thank You! have a nice day! \")\n",
    "            \n",
    "        if self.currentTicket[ticket_pay] == '' and ticket_pay in self.currentTicket.keys():\n",
    "            self.payforParking()     \n",
    "\n",
    "        return self.currentTicket\n",
    "              \n",
    "    def run(self):\n",
    "        while True:\n",
    "            response = input(\"What would you like to do? (park, pay, leave, quit)\\n \")\n",
    "            clear()\n",
    "            if response.lower() == 'quit':\n",
    "                print(\"See you soon!\")\n",
    "                break\n",
    "\n",
    "            elif response.lower() == 'park':\n",
    "                self.take_ticket()\n",
    "               \n",
    "            elif response.lower() == 'pay':\n",
    "                self.payforParking()\n",
    "                            \n",
    "            elif response.lower() == 'leave':\n",
    "                self.leaveGarage()    \n",
    "                \n",
    "            else:\n",
    "                print(\"Invalid response... pick from (park, pay, leave, quit) \")\n",
    "        \n",
    "\n",
    "\n",
    "\n",
    "parking = Paid_parking()\n",
    "parking.run()"
   ]
  },
  {
   "cell_type": "code",
   "execution_count": null,
   "id": "c5018f1a",
   "metadata": {},
   "outputs": [],
   "source": []
  },
  {
   "cell_type": "code",
   "execution_count": null,
   "id": "137b9f34",
   "metadata": {},
   "outputs": [],
   "source": []
  },
  {
   "cell_type": "code",
   "execution_count": null,
   "id": "3c97c194",
   "metadata": {},
   "outputs": [],
   "source": []
  }
 ],
 "metadata": {
  "kernelspec": {
   "display_name": "Python 3 (ipykernel)",
   "language": "python",
   "name": "python3"
  },
  "language_info": {
   "codemirror_mode": {
    "name": "ipython",
    "version": 3
   },
   "file_extension": ".py",
   "mimetype": "text/x-python",
   "name": "python",
   "nbconvert_exporter": "python",
   "pygments_lexer": "ipython3",
   "version": "3.9.9"
  }
 },
 "nbformat": 4,
 "nbformat_minor": 5
}
